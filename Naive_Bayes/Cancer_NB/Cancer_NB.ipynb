{
  "cells": [
    {
      "cell_type": "code",
      "execution_count": 15,
      "metadata": {
        "id": "Ll-ZtE2h-BTz"
      },
      "outputs": [],
      "source": [
        "# packages\n",
        "from __future__ import division, print_function, unicode_literals\n",
        "import numpy as np\n",
        "import pandas as pd"
      ]
    },
    {
      "cell_type": "code",
      "execution_count": 16,
      "metadata": {
        "colab": {
          "base_uri": "https://localhost:8080/"
        },
        "id": "HGPTqmwbAkyf",
        "outputId": "b7ae6e0d-7c1b-4cea-f3a2-7e13ffab86da"
      },
      "outputs": [
        {
          "name": "stdout",
          "output_type": "stream",
          "text": [
            "          0   1   2   3   4   5   6   7   8   9   10\n",
            "0    1000025   2   5   1   1   1   2   1   3   1   1\n",
            "1    1002945   2   5   4   4   5   7  10   3   2   1\n",
            "2    1015425   2   3   1   1   1   2   2   3   1   1\n",
            "3    1016277   2   6   8   8   1   3   4   3   7   1\n",
            "4    1017023   2   4   1   1   3   2   1   3   1   1\n",
            "..       ...  ..  ..  ..  ..  ..  ..  ..  ..  ..  ..\n",
            "694   776715   2   3   1   1   1   3   2   1   1   1\n",
            "695   841769   2   2   1   1   1   2   1   1   1   1\n",
            "696   888820   4   5  10  10   3   7   3   8  10   2\n",
            "697   897471   4   4   8   6   4   3   4  10   6   1\n",
            "698   897471   4   4   8   8   5   4   5  10   4   1\n",
            "\n",
            "[699 rows x 11 columns]\n"
          ]
        }
      ],
      "source": [
        "data = open(\"D:/Github/MAT3533_hoc-ke_2023/Cancer_NB/NB_last/NB_last/datacum.txt\",  'r')\n",
        "data = data.readlines()\n",
        "data = [x.split() for x in data if not x.startswith(\"#####\")]\n",
        "data = [x[0].split(\",\") for x in data if not len(x) == 0]\n",
        "data = np.array(data).astype(int)\n",
        "data_df = pd.DataFrame(data)\n",
        "print(data_df)"
      ]
    },
    {
      "cell_type": "code",
      "execution_count": 17,
      "metadata": {
        "colab": {
          "base_uri": "https://localhost:8080/"
        },
        "id": "aEMprLWqCvav",
        "outputId": "671fd2e3-1b59-41fe-ddf5-ed2b132000e0"
      },
      "outputs": [],
      "source": [
        "B_df = data_df.loc[data_df[1] == 2]\n",
        "B_test_df = B_df[:80]\n",
        "B_train_df = B_df[80:]\n",
        "\n",
        "M_df = data_df.loc[data_df[1] == 4]\n",
        "M_test_df = M_df[:40]\n",
        "M_train_df = M_df[40:]\n",
        "\n",
        "train_df = pd.concat([B_train_df, M_train_df])\n",
        "test_df = pd.concat([B_test_df, M_test_df])\n",
        "#print(test_df)\n",
        "#print(train_df)"
      ]
    },
    {
      "cell_type": "code",
      "execution_count": 18,
      "metadata": {
        "id": "x0QzgQt9fbnm"
      },
      "outputs": [],
      "source": [
        "train_label = data_df[1]\n",
        "train_data = data_df.drop(0, axis = 1)\n",
        "train_data = train_data.drop(1, axis = 1)"
      ]
    },
    {
      "cell_type": "code",
      "execution_count": 19,
      "metadata": {
        "id": "wt3TYFFYE80Q"
      },
      "outputs": [],
      "source": [
        "test_id = test_df[0]\n",
        "test_result = test_df[1]\n",
        "test_result = np.array(test_result)\n",
        "test_df = test_df.drop(0, axis=1)\n",
        "test_df = test_df.drop(1, axis=1)"
      ]
    },
    {
      "cell_type": "code",
      "execution_count": 20,
      "metadata": {
        "id": "8kXmaOUIeFpm"
      },
      "outputs": [],
      "source": [
        "from sklearn.naive_bayes import GaussianNB\n",
        "\n",
        "model_sk = GaussianNB()"
      ]
    },
    {
      "cell_type": "code",
      "execution_count": 21,
      "metadata": {
        "colab": {
          "base_uri": "https://localhost:8080/"
        },
        "id": "ZyxuQUtaji7c",
        "outputId": "fc2802fc-def4-401b-80c1-3dd27818de47"
      },
      "outputs": [
        {
          "data": {
            "text/plain": [
              "GaussianNB()"
            ]
          },
          "execution_count": 21,
          "metadata": {},
          "output_type": "execute_result"
        }
      ],
      "source": [
        "model_sk.fit(train_data, train_label)"
      ]
    },
    {
      "cell_type": "code",
      "execution_count": 22,
      "metadata": {
        "id": "K0cXDTmCjxlF"
      },
      "outputs": [],
      "source": [
        "y_pred = model_sk.predict(test_df)"
      ]
    },
    {
      "cell_type": "code",
      "execution_count": 23,
      "metadata": {
        "colab": {
          "base_uri": "https://localhost:8080/",
          "height": 358
        },
        "id": "boBkYhlukdVF",
        "outputId": "8529df63-7c4b-4624-ce74-6121379af79c"
      },
      "outputs": [
        {
          "data": {
            "image/png": "[encoded data removed]",
            "text/plain": [
              "<Figure size 500x500 with 1 Axes>"
            ]
          },
          "metadata": {},
          "output_type": "display_data"
        }
      ],
      "source": [
        "from sklearn.metrics import confusion_matrix\n",
        "from sklearn.metrics import precision_score, recall_score, f1_score, accuracy_score\n",
        "import matplotlib.pyplot as plt\n",
        "# Calculate the confusion matrix\n",
        "#\n",
        "conf_matrix = confusion_matrix(y_true=test_result, y_pred=y_pred)\n",
        "#\n",
        "# Print the confusion matrix using Matplotlib\n",
        "#\n",
        "fig, ax = plt.subplots(figsize=(5, 5))\n",
        "ax.matshow(conf_matrix, cmap=plt.cm.Oranges, alpha=0.3)\n",
        "for i in range(conf_matrix.shape[0]):\n",
        "    for j in range(conf_matrix.shape[1]):\n",
        "        ax.text(x=j, y=i,s=conf_matrix[i, j], va='center', ha='center', size='xx-large')\n",
        " \n",
        "plt.xlabel('Predictions', fontsize=18)\n",
        "plt.ylabel('Actuals', fontsize=18)\n",
        "plt.title('Confusion Matrix', fontsize=18)\n",
        "plt.show()"
      ]
    },
    {
      "cell_type": "code",
      "execution_count": 24,
      "metadata": {
        "colab": {
          "base_uri": "https://localhost:8080/"
        },
        "id": "vS4qMiLto_H7",
        "outputId": "0964eb57-7d48-4eb6-d0c9-68c37562a3da"
      },
      "outputs": [
        {
          "data": {
            "text/plain": [
              "0.9333333333333333"
            ]
          },
          "execution_count": 24,
          "metadata": {},
          "output_type": "execute_result"
        }
      ],
      "source": [
        "accuracy_score(test_result, y_pred)"
      ]
    },
    {
      "cell_type": "code",
      "execution_count": 25,
      "metadata": {
        "colab": {
          "base_uri": "https://localhost:8080/"
        },
        "id": "_RNnQdj4q6y7",
        "outputId": "df1b756b-fd89-470e-a91b-bd5e073ca44c"
      },
      "outputs": [
        {
          "data": {
            "text/plain": [
              "array([0.925, 0.95 ])"
            ]
          },
          "execution_count": 25,
          "metadata": {},
          "output_type": "execute_result"
        }
      ],
      "source": [
        "recall_score(test_result, y_pred, average=None)"
      ]
    },
    {
      "cell_type": "code",
      "execution_count": 26,
      "metadata": {
        "colab": {
          "base_uri": "https://localhost:8080/"
        },
        "id": "gwFK-qlUuBDJ",
        "outputId": "9cafc966-df40-4df7-8c07-5b20a412f6c1"
      },
      "outputs": [
        {
          "data": {
            "text/plain": [
              "array([0.97368421, 0.86363636])"
            ]
          },
          "execution_count": 26,
          "metadata": {},
          "output_type": "execute_result"
        }
      ],
      "source": [
        "precision_score(test_result, y_pred, average=None)"
      ]
    }
  ],
  "metadata": {
    "colab": {
      "provenance": []
    },
    "kernelspec": {
      "display_name": "base",
      "language": "python",
      "name": "python3"
    },
    "language_info": {
      "codemirror_mode": {
        "name": "ipython",
        "version": 3
      },
      "file_extension": ".py",
      "mimetype": "text/x-python",
      "name": "python",
      "nbconvert_exporter": "python",
      "pygments_lexer": "ipython3",
      "version": "3.9.13"
    },
    "vscode": {
      "interpreter": {
        "hash": "c42d99d755d00efaf066b964ceed011a4027ae5af520c8ef8190b9acee3a6094"
      }
    }
  },
  "nbformat": 4,
  "nbformat_minor": 0
}
